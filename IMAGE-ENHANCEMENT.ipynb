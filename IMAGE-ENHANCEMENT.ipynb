{
 "cells": [
  {
   "cell_type": "code",
   "execution_count": 1,
   "metadata": {},
   "outputs": [],
   "source": [
    "#Import required libraries:\n",
    "import numpy as np\n",
    "import matplotlib.pyplot as plt\n",
    "import cv2\n",
    "import math\n",
    "%matplotlib inline"
   ]
  },
  {
   "cell_type": "code",
   "execution_count": 2,
   "metadata": {},
   "outputs": [],
   "source": [
    "#Read the image:\n",
    "img = cv2.imread(\"C:/Users/Phase/Desktop/ME-THESIS-TEMPLATE/IMAGE-DB/standard_test_images/lena_color_512.tif\")\n",
    "\n",
    "#Convert the image into gray-scale:\n",
    "img_gray = cv2.cvtColor(img,cv2.COLOR_BGR2GRAY)\n",
    "\n",
    "#View the image:\n",
    "cv2.imshow(\"Original Image\",img_gray)\n",
    "cv2.waitKey(0)\n",
    "cv2.destroyAllWindows()"
   ]
  },
  {
   "cell_type": "code",
   "execution_count": 9,
   "metadata": {},
   "outputs": [],
   "source": [
    "#Get image height and width:\n",
    "height = img_gray.shape[0]\n",
    "width = img_gray.shape[1]"
   ]
  },
  {
   "cell_type": "code",
   "execution_count": 15,
   "metadata": {},
   "outputs": [],
   "source": [
    "#Set contrast value:\n",
    "contrast = 1.3"
   ]
  },
  {
   "cell_type": "code",
   "execution_count": 21,
   "metadata": {},
   "outputs": [
    {
     "data": {
      "text/plain": [
       "True"
      ]
     },
     "execution_count": 21,
     "metadata": {},
     "output_type": "execute_result"
    }
   ],
   "source": [
    "#Iterate over the image:\n",
    "\n",
    "    #Iterate over the rows:\n",
    "for i in range(height):\n",
    "    \n",
    "    #Iterate over the columns:\n",
    "    for j in range(width):\n",
    "        \n",
    "        #Get pixel value at location (i,j) in the image:\n",
    "        pix_val = img_gray.item(i,j)\n",
    "        \n",
    "        #Set pixel value to new value:\n",
    "        new_pix_val = math.ceil(pix_val * contrast)\n",
    "        \n",
    "        #Check if pixel's new value if within 0 to 255 range:\n",
    "        if new_pix_val > 255:\n",
    "            new_pix_val = 255\n",
    "        \n",
    "        #Set new pixel value as a original pixel value in the image:\n",
    "        img_gray.itemset((i,j),new_pix_val)\n",
    "\n",
    "#Save enhanced image as a new image:\n",
    "cv2.imwrite(\"C:/Users/Phase/Desktop/ME-THESIS-TEMPLATE/IMAGE-DB/standard_test_images/contrast_enhanced_img.jpg\",img_gray)\n",
    "\n",
    "#Show the enhanced image:\n",
    "cv2.imshow(\"Contrast Enhanced Image\",img_gray)\n",
    "cv2.waitKey(0)\n",
    "cv2.destroyAllWindows()"
   ]
  }
 ],
 "metadata": {
  "kernelspec": {
   "display_name": "Python 3",
   "language": "python",
   "name": "python3"
  },
  "language_info": {
   "codemirror_mode": {
    "name": "ipython",
    "version": 3
   },
   "file_extension": ".py",
   "mimetype": "text/x-python",
   "name": "python",
   "nbconvert_exporter": "python",
   "pygments_lexer": "ipython3",
   "version": "3.6.6"
  }
 },
 "nbformat": 4,
 "nbformat_minor": 2
}
